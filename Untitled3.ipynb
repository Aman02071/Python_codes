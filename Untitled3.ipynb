{
 "cells": [
  {
   "cell_type": "markdown",
   "id": "c0bb3607-7231-4bba-8674-422f9e72ada8",
   "metadata": {},
   "source": [
    "String Manipulation"
   ]
  },
  {
   "cell_type": "code",
   "execution_count": 2,
   "id": "82477cfa-72fd-48bf-a474-5737e0e47dc7",
   "metadata": {},
   "outputs": [
    {
     "name": "stdout",
     "output_type": "stream",
     "text": [
      "hello\n",
      "<class 'str'>\n",
      "5\n"
     ]
    }
   ],
   "source": [
    "s1 = \"hello\" #a string is a set of character where each characters is known as element\n",
    "print(s1)\n",
    "print(type(s1))\n",
    "print(len(s1))   #no of element\n"
   ]
  },
  {
   "cell_type": "code",
   "execution_count": 4,
   "id": "80001808-daef-4505-8a47-168cc7097009",
   "metadata": {},
   "outputs": [
    {
     "name": "stdout",
     "output_type": "stream",
     "text": [
      "h\n",
      "e\n",
      "l\n",
      "l\n",
      "o\n"
     ]
    }
   ],
   "source": [
    "for i in s1:   #print element one by one traversing\n",
    "    print(i)"
   ]
  },
  {
   "cell_type": "markdown",
   "id": "b70386f2-0c28-443b-a3e7-2c27bdce8934",
   "metadata": {},
   "source": [
    "Indexing and Slicing"
   ]
  },
  {
   "cell_type": "code",
   "execution_count": 7,
   "id": "fd00ad76-ccb5-483e-9586-32e2a6917c9f",
   "metadata": {},
   "outputs": [
    {
     "name": "stdout",
     "output_type": "stream",
     "text": [
      "hello\n",
      "e\n",
      "l\n"
     ]
    }
   ],
   "source": [
    "print(s1)\n",
    "print(s1[1])      #indexing means to print specific element\n",
    "print(s1[3])"
   ]
  },
  {
   "cell_type": "code",
   "execution_count": 9,
   "id": "3169035a-d477-449f-8f89-78e9a714ff43",
   "metadata": {},
   "outputs": [
    {
     "name": "stdout",
     "output_type": "stream",
     "text": [
      "hello\n",
      "o\n"
     ]
    }
   ],
   "source": [
    "print(s1)\n",
    "print(s1[-1])  #negative index start from right to left"
   ]
  },
  {
   "cell_type": "code",
   "execution_count": 13,
   "id": "37eec03b-a474-486e-8dfe-049fe169e847",
   "metadata": {},
   "outputs": [
    {
     "name": "stdout",
     "output_type": "stream",
     "text": [
      "hello\n",
      "he\n"
     ]
    }
   ],
   "source": [
    "# slicing\n",
    "print(s1)\n",
    "print(s1[0:2])  #0,1 , element port start:stop:step"
   ]
  },
  {
   "cell_type": "code",
   "execution_count": null,
   "id": "a0478093-7d14-4641-9e42-6836510c6300",
   "metadata": {},
   "outputs": [],
   "source": []
  }
 ],
 "metadata": {
  "kernelspec": {
   "display_name": "Python [conda env:base] *",
   "language": "python",
   "name": "conda-base-py"
  },
  "language_info": {
   "codemirror_mode": {
    "name": "ipython",
    "version": 3
   },
   "file_extension": ".py",
   "mimetype": "text/x-python",
   "name": "python",
   "nbconvert_exporter": "python",
   "pygments_lexer": "ipython3",
   "version": "3.12.7"
  }
 },
 "nbformat": 4,
 "nbformat_minor": 5
}
