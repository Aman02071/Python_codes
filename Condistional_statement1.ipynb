{
 "cells": [
  {
   "cell_type": "markdown",
   "id": "094930df-605c-4480-a33d-fd8b62db2de2",
   "metadata": {},
   "source": [
    "Conditional Statement  if,else,elif"
   ]
  },
  {
   "cell_type": "code",
   "execution_count": 4,
   "id": "8804d743-f9db-469e-bfd1-df416b9bdde9",
   "metadata": {},
   "outputs": [
    {
     "name": "stdin",
     "output_type": "stream",
     "text": [
      "enter your age  17\n"
     ]
    },
    {
     "name": "stdout",
     "output_type": "stream",
     "text": [
      "not eligible for voting\n"
     ]
    }
   ],
   "source": [
    "age = int(input(\"enter your age \"))\n",
    "if age >=18:\n",
    "    print(\"Yes you are eligible\")\n",
    "else:\n",
    "    print(\"not eligible for voting\")\n",
    "    \n",
    "          "
   ]
  },
  {
   "cell_type": "code",
   "execution_count": 6,
   "id": "b36f1d3c-fac7-49d3-b046-78c368a3f43f",
   "metadata": {},
   "outputs": [
    {
     "name": "stdin",
     "output_type": "stream",
     "text": [
      "enter your age  23\n"
     ]
    },
    {
     "name": "stdout",
     "output_type": "stream",
     "text": [
      "Yes you are eligible\n",
      "the end\n"
     ]
    }
   ],
   "source": [
    "age = int(input(\"enter your age \"))\n",
    "if age >=18:\n",
    "    print(\"Yes you are eligible\")\n",
    "else:\n",
    "    print(\"not eligible for voting\")\n",
    "\n",
    "print(\"the end\")    # outside if ,else always run\n",
    "    "
   ]
  },
  {
   "cell_type": "code",
   "execution_count": 10,
   "id": "625000dc-96a3-4267-b4c7-c16ae05524fd",
   "metadata": {},
   "outputs": [
    {
     "name": "stdin",
     "output_type": "stream",
     "text": [
      "enter the no 35\n"
     ]
    },
    {
     "name": "stdout",
     "output_type": "stream",
     "text": [
      "number is odd\n"
     ]
    }
   ],
   "source": [
    "n1 = int(input(\"enter the no\"))\n",
    "if n1%2==0:\n",
    "    print(\"number is even\")\n",
    "\n",
    "else:\n",
    "    print(\"number is odd\")"
   ]
  },
  {
   "cell_type": "code",
   "execution_count": 16,
   "id": "ad3f723d-cf96-4696-b651-77926e01fffd",
   "metadata": {},
   "outputs": [
    {
     "name": "stdin",
     "output_type": "stream",
     "text": [
      "Enter the marks  90\n"
     ]
    },
    {
     "name": "stdout",
     "output_type": "stream",
     "text": [
      "Good\n"
     ]
    }
   ],
   "source": [
    "marks = int(input(\"Enter the marks \"))\n",
    "if marks>=75:\n",
    "    print(\"Good\")\n",
    "\n",
    "else:\n",
    "    print(\"Average\")"
   ]
  },
  {
   "cell_type": "code",
   "execution_count": 20,
   "id": "33935a8c-0478-4b93-afff-59e0668460c5",
   "metadata": {},
   "outputs": [
    {
     "name": "stdin",
     "output_type": "stream",
     "text": [
      "enter the marks 34\n"
     ]
    },
    {
     "name": "stdout",
     "output_type": "stream",
     "text": [
      "bad\n"
     ]
    }
   ],
   "source": [
    "marks = int(input(\"enter the marks\"))\n",
    "if marks>=70:\n",
    "    print(\"Good\")\n",
    "\n",
    "elif marks >=50:\n",
    "    print(\"average\")\n",
    "\n",
    "else:\n",
    "    print(\"bad\")\n",
    "    "
   ]
  },
  {
   "cell_type": "code",
   "execution_count": 32,
   "id": "5f4c9db5-221e-4d9b-8760-3e4ff28b5731",
   "metadata": {},
   "outputs": [
    {
     "name": "stdin",
     "output_type": "stream",
     "text": [
      "enter the marks 69\n"
     ]
    },
    {
     "name": "stdout",
     "output_type": "stream",
     "text": [
      "average\n"
     ]
    }
   ],
   "source": [
    "marks = int(input(\"enter the marks\"))\n",
    "if marks >= 50 and marks < 70:\n",
    "    print(\"average\")\n",
    "\n",
    "elif marks >=70:\n",
    "    print(\"Good\")\n",
    "\n",
    "else:\n",
    "    print(\"bad\")\n"
   ]
  },
  {
   "cell_type": "code",
   "execution_count": 34,
   "id": "2b04e3a9-b0a2-4abf-9b0f-8d725d81fe41",
   "metadata": {},
   "outputs": [
    {
     "name": "stdin",
     "output_type": "stream",
     "text": [
      "enter the first number 78\n",
      "enter the second number 83.3\n"
     ]
    },
    {
     "name": "stdout",
     "output_type": "stream",
     "text": [
      "83.3  is greater than a  78\n"
     ]
    }
   ],
   "source": [
    "a = int (input(\"enter the first number\"))\n",
    "b= float(input(\"enter the second number\"))\n",
    "if a>b:\n",
    "    print(a , \" is greater than b \",b)\n",
    "\n",
    "else:\n",
    "    print(b , \" is greater than a \" ,a)"
   ]
  },
  {
   "cell_type": "markdown",
   "id": "25bde053-a6c2-4397-bd84-756e4c0de805",
   "metadata": {},
   "source": [
    "Multiple if"
   ]
  },
  {
   "cell_type": "code",
   "execution_count": null,
   "id": "fb889bb3-935c-48dc-a76f-ad60bdbbb7c6",
   "metadata": {},
   "outputs": [],
   "source": [
    "a = int(input(\"enter the value\"))\n",
    "if a>3:\n",
    "    print(\"hello\")\n",
    "\n",
    "elif a >2:\n",
    "    print(\"hi\")\n",
    "\n",
    "elif a >1:\n",
    "    print(\"yes\")\n",
    "\n",
    "else:\n",
    "    print(\"inside else\")\n"
   ]
  },
  {
   "cell_type": "code",
   "execution_count": null,
   "id": "653814c4-14a7-4c1b-a931-76299315cb7e",
   "metadata": {},
   "outputs": [],
   "source": []
  }
 ],
 "metadata": {
  "kernelspec": {
   "display_name": "Python [conda env:base] *",
   "language": "python",
   "name": "conda-base-py"
  },
  "language_info": {
   "codemirror_mode": {
    "name": "ipython",
    "version": 3
   },
   "file_extension": ".py",
   "mimetype": "text/x-python",
   "name": "python",
   "nbconvert_exporter": "python",
   "pygments_lexer": "ipython3",
   "version": "3.12.7"
  }
 },
 "nbformat": 4,
 "nbformat_minor": 5
}
