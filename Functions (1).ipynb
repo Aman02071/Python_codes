{
 "cells": [
  {
   "cell_type": "markdown",
   "id": "139f4232-a6c1-4e6d-b7f7-994f5d0fff30",
   "metadata": {},
   "source": [
    "# functions"
   ]
  },
  {
   "cell_type": "code",
   "execution_count": 2,
   "id": "d65320c5-68cb-46eb-a4bd-037ae712b092",
   "metadata": {},
   "outputs": [
    {
     "name": "stdout",
     "output_type": "stream",
     "text": [
      "3.7\n",
      "3\n"
     ]
    }
   ],
   "source": [
    "a = 3.7\n",
    "print(a)\n",
    "print(int(a))   convert into integer using int()\n"
   ]
  },
  {
   "cell_type": "code",
   "execution_count": 4,
   "id": "3b6a7d56-7cc7-4eae-9d50-55a7247322aa",
   "metadata": {},
   "outputs": [
    {
     "name": "stdout",
     "output_type": "stream",
     "text": [
      "67\n",
      "67.0\n"
     ]
    }
   ],
   "source": [
    "a = 67\n",
    "print(a)\n",
    "print(float(a))"
   ]
  },
  {
   "cell_type": "code",
   "execution_count": 6,
   "id": "a0f55f38-420e-4c88-abfa-4acfdfc0d451",
   "metadata": {},
   "outputs": [
    {
     "name": "stdout",
     "output_type": "stream",
     "text": [
      "56\n",
      "hello\n"
     ]
    }
   ],
   "source": [
    "a =\"56\"    #impure string , then convert into int\n",
    "b = \"hello\"\n",
    "print(a)\n",
    "print(b)"
   ]
  },
  {
   "cell_type": "code",
   "execution_count": 8,
   "id": "6547405a-79cf-42b9-b94e-d5c63777e15f",
   "metadata": {},
   "outputs": [
    {
     "name": "stdout",
     "output_type": "stream",
     "text": [
      "60\n"
     ]
    }
   ],
   "source": [
    "a = \"56\"   #convert into int\n",
    "print(int(a)+4)"
   ]
  },
  {
   "cell_type": "markdown",
   "id": "43156d67-ff86-4930-bb51-8c2b2a501c44",
   "metadata": {},
   "source": [
    "# type function"
   ]
  },
  {
   "cell_type": "code",
   "execution_count": 11,
   "id": "a513ccb0-a940-49bb-b66f-8f789ec362dd",
   "metadata": {},
   "outputs": [
    {
     "name": "stdout",
     "output_type": "stream",
     "text": [
      "<class 'float'>\n",
      "<class 'str'>\n",
      "<class 'int'>\n"
     ]
    }
   ],
   "source": [
    "a  = 3.55\n",
    "b = \"Rahul\"\n",
    "c = 89\n",
    "print(type(a))\n",
    "print(type(b))\n",
    "print(type(c))\n",
    "\n",
    "      "
   ]
  },
  {
   "cell_type": "code",
   "execution_count": 13,
   "id": "4f91fe67-d8e8-447c-9636-c78b4c38e3e3",
   "metadata": {},
   "outputs": [
    {
     "name": "stdout",
     "output_type": "stream",
     "text": [
      "Hello how are you \n"
     ]
    }
   ],
   "source": [
    "# 2 Types of string line and multiple line string\n",
    "s1 =\"Hello how are you \"    #single line string\n",
    "print(s1)"
   ]
  },
  {
   "cell_type": "code",
   "execution_count": 33,
   "id": "a42a8b41-b086-4b1d-9545-762e4161347b",
   "metadata": {},
   "outputs": [
    {
     "name": "stdout",
     "output_type": "stream",
     "text": [
      "hello how are you\n"
     ]
    }
   ],
   "source": [
    " s2 = \"hello \\\n",
    "how are you\"\n",
    "print(s2)\n"
   ]
  },
  {
   "cell_type": "markdown",
   "id": "13cfa7e4-8ebc-4c55-8ab8-e09a857e2c51",
   "metadata": {},
   "source": [
    "# input functions"
   ]
  },
  {
   "cell_type": "code",
   "execution_count": 38,
   "id": "3a14e313-f82f-4b4e-a649-4bdd327dedee",
   "metadata": {},
   "outputs": [
    {
     "name": "stdin",
     "output_type": "stream",
     "text": [
      " 8\n"
     ]
    },
    {
     "name": "stdout",
     "output_type": "stream",
     "text": [
      "The area of circle whose Radius  8 cm is  200.96\n"
     ]
    }
   ],
   "source": [
    "pie = 3.14\n",
    "r = int(input())    # this will accept any values but stored in string format\n",
    "area = pie*r*r\n",
    "print(\"The area of circle whose Radius \",r,\"cm is \",area)"
   ]
  },
  {
   "cell_type": "markdown",
   "id": "9e938f0a-dd0f-4c7f-92a2-7b9efab0da38",
   "metadata": {},
   "source": [
    "# Math Module = it is a collection of functions and variable"
   ]
  },
  {
   "cell_type": "code",
   "execution_count": 41,
   "id": "447f096d-6949-4136-a689-1c620da68c97",
   "metadata": {},
   "outputs": [],
   "source": [
    "import math \n"
   ]
  },
  {
   "cell_type": "code",
   "execution_count": 43,
   "id": "f7c8afa4-cf51-4df9-8279-e96447cc2598",
   "metadata": {},
   "outputs": [
    {
     "name": "stdout",
     "output_type": "stream",
     "text": [
      "7.0\n"
     ]
    }
   ],
   "source": [
    "math.sqrt(49)\n",
    "print(math.sqrt(49))"
   ]
  },
  {
   "cell_type": "code",
   "execution_count": 59,
   "id": "20dde66c-3202-4a2c-a42d-edb1e2894f57",
   "metadata": {},
   "outputs": [
    {
     "name": "stdout",
     "output_type": "stream",
     "text": [
      "120\n",
      "32.0\n",
      "32\n",
      "3.141592653589793\n",
      "4\n",
      "3\n"
     ]
    }
   ],
   "source": [
    "print(math.factorial(5))\n",
    "print(math.pow(2,5))\n",
    "print(int(math.pow(2,5)))\n",
    "print(math.pi)\n",
    "print(math.ceil(3.4)) # round up\n",
    "print(math.floor(3.4)) # round down"
   ]
  },
  {
   "cell_type": "code",
   "execution_count": null,
   "id": "5ab63d46-b9cd-482b-b88c-5b08581decaa",
   "metadata": {},
   "outputs": [],
   "source": [
    "# "
   ]
  },
  {
   "cell_type": "code",
   "execution_count": null,
   "id": "f792fd7e-74a2-47ab-b283-c481a049c477",
   "metadata": {},
   "outputs": [],
   "source": []
  },
  {
   "cell_type": "code",
   "execution_count": null,
   "id": "a8a8c076-8042-462d-9acf-e87bc66b7cf3",
   "metadata": {},
   "outputs": [],
   "source": []
  },
  {
   "cell_type": "code",
   "execution_count": null,
   "id": "7319bd1c-807c-42ea-b8ff-2389761c0404",
   "metadata": {},
   "outputs": [],
   "source": []
  },
  {
   "cell_type": "code",
   "execution_count": null,
   "id": "bd02ef46-ef88-41e6-8dc0-b7eb7e298654",
   "metadata": {},
   "outputs": [],
   "source": []
  }
 ],
 "metadata": {
  "kernelspec": {
   "display_name": "Python [conda env:base] *",
   "language": "python",
   "name": "conda-base-py"
  },
  "language_info": {
   "codemirror_mode": {
    "name": "ipython",
    "version": 3
   },
   "file_extension": ".py",
   "mimetype": "text/x-python",
   "name": "python",
   "nbconvert_exporter": "python",
   "pygments_lexer": "ipython3",
   "version": "3.12.7"
  }
 },
 "nbformat": 4,
 "nbformat_minor": 5
}
