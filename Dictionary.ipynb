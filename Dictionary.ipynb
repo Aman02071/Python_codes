{
  "nbformat": 4,
  "nbformat_minor": 0,
  "metadata": {
    "colab": {
      "provenance": [],
      "authorship_tag": "ABX9TyO0opBT2AhvgNCbVhGZmSfl",
      "include_colab_link": true
    },
    "kernelspec": {
      "name": "python3",
      "display_name": "Python 3"
    },
    "language_info": {
      "name": "python"
    }
  },
  "cells": [
    {
      "cell_type": "markdown",
      "metadata": {
        "id": "view-in-github",
        "colab_type": "text"
      },
      "source": [
        "<a href=\"https://colab.research.google.com/github/Aman02071/Python_codes/blob/main/Dictionary.ipynb\" target=\"_parent\"><img src=\"https://colab.research.google.com/assets/colab-badge.svg\" alt=\"Open In Colab\"/></a>"
      ]
    },
    {
      "cell_type": "markdown",
      "source": [
        "**# Dictionary**\n",
        "\n",
        "\n",
        "*  It is a Mutable , Unordered collection of elements in the form of key and Value pairs.\n",
        "* in this u cannot use slicing and index.\n",
        "*  \"+\" and * Operator cannot use\n",
        "\n",
        "  \n",
        "\n",
        "\n",
        "\n",
        "\n",
        "\n"
      ],
      "metadata": {
        "id": "W6nsmad6eN5O"
      }
    },
    {
      "cell_type": "code",
      "source": [
        "dq = {'ram':100,'shyam':456,'virat':792}\n",
        "print(dq)\n",
        "print(type(dq))\n",
        "print(len(dq))"
      ],
      "metadata": {
        "colab": {
          "base_uri": "https://localhost:8080/"
        },
        "id": "w-UDHKkle8Kv",
        "outputId": "6d0d9d76-7b3c-421a-aa83-ebe53568083e"
      },
      "execution_count": 4,
      "outputs": [
        {
          "output_type": "stream",
          "name": "stdout",
          "text": [
            "{'ram': 100, 'shyam': 456, 'virat': 792}\n",
            "<class 'dict'>\n",
            "3\n"
          ]
        }
      ]
    },
    {
      "cell_type": "code",
      "source": [
        "# print(dq[1])   u cannot use indexing and slicing"
      ],
      "metadata": {
        "colab": {
          "base_uri": "https://localhost:8080/",
          "height": 141
        },
        "id": "4lL4Td3LfmNy",
        "outputId": "9ecef1f2-9dac-490e-cd97-3fb01dec8924"
      },
      "execution_count": 5,
      "outputs": [
        {
          "output_type": "error",
          "ename": "KeyError",
          "evalue": "1",
          "traceback": [
            "\u001b[0;31m---------------------------------------------------------------------------\u001b[0m",
            "\u001b[0;31mKeyError\u001b[0m                                  Traceback (most recent call last)",
            "\u001b[0;32m<ipython-input-5-7e8fc6e482d6>\u001b[0m in \u001b[0;36m<cell line: 0>\u001b[0;34m()\u001b[0m\n\u001b[0;32m----> 1\u001b[0;31m \u001b[0mprint\u001b[0m\u001b[0;34m(\u001b[0m\u001b[0mdq\u001b[0m\u001b[0;34m[\u001b[0m\u001b[0;36m1\u001b[0m\u001b[0;34m]\u001b[0m\u001b[0;34m)\u001b[0m\u001b[0;34m\u001b[0m\u001b[0;34m\u001b[0m\u001b[0m\n\u001b[0m",
            "\u001b[0;31mKeyError\u001b[0m: 1"
          ]
        }
      ]
    },
    {
      "cell_type": "code",
      "source": [
        "print(dq)\n",
        "print(dq['ram'])\n",
        "# by using key we can print value but by using value we cant print key"
      ],
      "metadata": {
        "colab": {
          "base_uri": "https://localhost:8080/"
        },
        "id": "xmLv1QgQhnUv",
        "outputId": "e234afad-abab-4031-d812-8e2897a8f325"
      },
      "execution_count": 9,
      "outputs": [
        {
          "output_type": "stream",
          "name": "stdout",
          "text": [
            "{'ram': 100, 'shyam': 456, 'virat': 792}\n",
            "100\n"
          ]
        }
      ]
    },
    {
      "cell_type": "code",
      "source": [
        "print(dq[\"ritika\"])\n",
        "# ritika is not present in the dictionary"
      ],
      "metadata": {
        "colab": {
          "base_uri": "https://localhost:8080/"
        },
        "id": "EnG4SMYNiXdt",
        "outputId": "8a643eb0-36b0-46ed-a4fa-a9f302134de3"
      },
      "execution_count": 11,
      "outputs": [
        {
          "output_type": "stream",
          "name": "stdout",
          "text": [
            "792\n"
          ]
        }
      ]
    },
    {
      "cell_type": "markdown",
      "source": [
        "Rules of Dictionary\n",
        "*   1 key must be immutable type like\n",
        "    tuple,string,int,float,boolean\n",
        "*   value can be of any mutable or\n",
        "    immutable\n",
        "*   Key must be unique\n",
        "*   value can be repeat\n",
        "\n",
        "\n",
        "\n"
      ],
      "metadata": {
        "id": "A0PxkGmoixNu"
      }
    },
    {
      "cell_type": "markdown",
      "source": [],
      "metadata": {
        "id": "n3N1qICDeMng"
      }
    },
    {
      "cell_type": "code",
      "source": [
        "print(dq)"
      ],
      "metadata": {
        "colab": {
          "base_uri": "https://localhost:8080/"
        },
        "id": "so6A97Nckvip",
        "outputId": "0fbd432c-3aa4-470b-cdcc-d8a14bbe42a1"
      },
      "execution_count": 12,
      "outputs": [
        {
          "output_type": "stream",
          "name": "stdout",
          "text": [
            "{'ram': 100, 'shyam': 456, 'virat': 792}\n"
          ]
        }
      ]
    },
    {
      "cell_type": "code",
      "source": [
        "dq['virat'] = 2234\n",
        "# inserting a element"
      ],
      "metadata": {
        "id": "UVmv7kCWkxu3"
      },
      "execution_count": 13,
      "outputs": []
    },
    {
      "cell_type": "code",
      "source": [
        "print(dq)"
      ],
      "metadata": {
        "colab": {
          "base_uri": "https://localhost:8080/"
        },
        "id": "Tu2VmcsTk9GC",
        "outputId": "b02ca20b-0bdd-4782-d6fb-226457638bd6"
      },
      "execution_count": 14,
      "outputs": [
        {
          "output_type": "stream",
          "name": "stdout",
          "text": [
            "{'ram': 100, 'shyam': 456, 'virat': 2234}\n"
          ]
        }
      ]
    },
    {
      "cell_type": "code",
      "source": [
        "for i in dq:\n",
        "  print(i)\n",
        "  # it will print only keys"
      ],
      "metadata": {
        "colab": {
          "base_uri": "https://localhost:8080/"
        },
        "id": "UFEn-ZfqlCM1",
        "outputId": "cd99905c-5386-4033-8b12-7fe02dd13e81"
      },
      "execution_count": 15,
      "outputs": [
        {
          "output_type": "stream",
          "name": "stdout",
          "text": [
            "ram\n",
            "shyam\n",
            "virat\n"
          ]
        }
      ]
    },
    {
      "cell_type": "code",
      "source": [
        "for i in dq:\n",
        "  print(i,dq[i])\n",
        "  # it will print key and value"
      ],
      "metadata": {
        "colab": {
          "base_uri": "https://localhost:8080/"
        },
        "id": "D64zqe06lPCb",
        "outputId": "b603d015-3053-47be-b2e1-6035721461fe"
      },
      "execution_count": 16,
      "outputs": [
        {
          "output_type": "stream",
          "name": "stdout",
          "text": [
            "ram 100\n",
            "shyam 456\n",
            "virat 2234\n"
          ]
        }
      ]
    },
    {
      "cell_type": "code",
      "source": [
        "print(\"shyam\" in dq)\n",
        "# key searching\n",
        "print(\"shalini\" not in dq)\n",
        "# membership operator"
      ],
      "metadata": {
        "colab": {
          "base_uri": "https://localhost:8080/"
        },
        "id": "XKXtwN6llgeg",
        "outputId": "8c3bdec2-d732-4cc5-9c58-fe5eef142f88"
      },
      "execution_count": 18,
      "outputs": [
        {
          "output_type": "stream",
          "name": "stdout",
          "text": [
            "True\n",
            "True\n"
          ]
        }
      ]
    },
    {
      "cell_type": "markdown",
      "source": [
        "WAP to create a dictionary of friend name as a key and college name as avalue ,input take from the user"
      ],
      "metadata": {
        "id": "Jw7Sqy80l2e9"
      }
    },
    {
      "cell_type": "code",
      "source": [
        "frd ={}\n",
        "for i in range(3):\n",
        "    name = input(\"enter your name\")\n",
        "    cllg_name =input(\"enter your college name\")\n",
        "    frd[name] = cllg_name\n",
        "print(frd)"
      ],
      "metadata": {
        "colab": {
          "base_uri": "https://localhost:8080/"
        },
        "id": "aaXc825MmDf-",
        "outputId": "25c26abd-4be8-4bc2-c063-12dca2cc675a"
      },
      "execution_count": 20,
      "outputs": [
        {
          "output_type": "stream",
          "name": "stdout",
          "text": [
            "enter your namevirat\n",
            "enter your college nameiit delhi\n",
            "enter your nameaman\n",
            "enter your college namesrm\n",
            "enter your namedhruv\n",
            "enter your college namevit\n",
            "{'virat': 'iit delhi', 'aman': 'srm', 'dhruv': 'vit'}\n"
          ]
        }
      ]
    },
    {
      "cell_type": "markdown",
      "source": [
        "Fuctions of Dictionary\n",
        "len(),clear(),get(),values(),keys(),update()"
      ],
      "metadata": {
        "id": "_6zvWw6onA4V"
      }
    },
    {
      "cell_type": "code",
      "source": [
        "print(dq)\n",
        "print(len(dq))\n"
      ],
      "metadata": {
        "colab": {
          "base_uri": "https://localhost:8080/"
        },
        "id": "HKlzPyLinRqk",
        "outputId": "69cb4c8e-cec7-4155-9c97-ec7be3b4a545"
      },
      "execution_count": 21,
      "outputs": [
        {
          "output_type": "stream",
          "name": "stdout",
          "text": [
            "{'ram': 100, 'shyam': 456, 'virat': 2234}\n",
            "3\n"
          ]
        }
      ]
    },
    {
      "cell_type": "code",
      "source": [
        "print(dq.values())"
      ],
      "metadata": {
        "colab": {
          "base_uri": "https://localhost:8080/"
        },
        "id": "DAIYHlWknaoN",
        "outputId": "a1a9c53f-1eb9-4d8e-e6d3-f9b532391799"
      },
      "execution_count": 24,
      "outputs": [
        {
          "output_type": "stream",
          "name": "stdout",
          "text": [
            "dict_values([100, 456, 2234])\n"
          ]
        }
      ]
    },
    {
      "cell_type": "code",
      "source": [
        "print(dq.keys())\n",
        "# it will return list which contains values"
      ],
      "metadata": {
        "colab": {
          "base_uri": "https://localhost:8080/"
        },
        "id": "PTbj43CpniJU",
        "outputId": "edab5ee3-88b8-40f5-ba8f-59b0b1fd18a3"
      },
      "execution_count": 23,
      "outputs": [
        {
          "output_type": "stream",
          "name": "stdout",
          "text": [
            "dict_keys(['ram', 'shyam', 'virat'])\n"
          ]
        }
      ]
    },
    {
      "cell_type": "code",
      "source": [
        "print(dq.items())\n",
        "# list contain tuple element with key,value"
      ],
      "metadata": {
        "colab": {
          "base_uri": "https://localhost:8080/"
        },
        "id": "Q052f3Z1n8Fw",
        "outputId": "52986f70-58a5-4732-dab5-e351021f3121"
      },
      "execution_count": 25,
      "outputs": [
        {
          "output_type": "stream",
          "name": "stdout",
          "text": [
            "dict_items([('ram', 100), ('shyam', 456), ('virat', 2234)])\n"
          ]
        }
      ]
    },
    {
      "cell_type": "code",
      "source": [
        "print(dq.get('ram',\"not found\"))"
      ],
      "metadata": {
        "colab": {
          "base_uri": "https://localhost:8080/"
        },
        "id": "ezm2ruq_oNRx",
        "outputId": "31044de3-1000-4d64-f38b-74aaf9714b87"
      },
      "execution_count": 26,
      "outputs": [
        {
          "output_type": "stream",
          "name": "stdout",
          "text": [
            "100\n"
          ]
        }
      ]
    },
    {
      "cell_type": "code",
      "source": [
        "print(dq.get('john',\"not found\"))"
      ],
      "metadata": {
        "colab": {
          "base_uri": "https://localhost:8080/"
        },
        "id": "yi8pn69woarS",
        "outputId": "494deba0-3575-4bd5-b271-a2131d6e0bf3"
      },
      "execution_count": 27,
      "outputs": [
        {
          "output_type": "stream",
          "name": "stdout",
          "text": [
            "not found\n"
          ]
        }
      ]
    },
    {
      "cell_type": "code",
      "source": [
        "print(dq)\n",
        "print(frd)"
      ],
      "metadata": {
        "colab": {
          "base_uri": "https://localhost:8080/"
        },
        "id": "3VKYQnduoiRB",
        "outputId": "1aacbcc5-4c15-4331-bd48-008fc393b8c7"
      },
      "execution_count": 28,
      "outputs": [
        {
          "output_type": "stream",
          "name": "stdout",
          "text": [
            "{'ram': 100, 'shyam': 456, 'virat': 2234}\n",
            "{'virat': 'iit delhi', 'aman': 'srm', 'dhruv': 'vit'}\n"
          ]
        }
      ]
    },
    {
      "cell_type": "code",
      "source": [
        "dq.update(frd)\n",
        "print(dq)"
      ],
      "metadata": {
        "colab": {
          "base_uri": "https://localhost:8080/"
        },
        "id": "vKTi8wxRonSW",
        "outputId": "9d2df334-72a2-4251-aae1-cfb3e943cf29"
      },
      "execution_count": 31,
      "outputs": [
        {
          "output_type": "stream",
          "name": "stdout",
          "text": [
            "{'ram': 100, 'shyam': 456, 'virat': 'iit delhi', 'aman': 'srm', 'dhruv': 'vit'}\n"
          ]
        }
      ]
    },
    {
      "cell_type": "code",
      "source": [
        "print(frd)"
      ],
      "metadata": {
        "colab": {
          "base_uri": "https://localhost:8080/"
        },
        "id": "cxwikyDCo4w2",
        "outputId": "851a2306-a6bf-4ee5-b7e0-063aab322825"
      },
      "execution_count": 32,
      "outputs": [
        {
          "output_type": "stream",
          "name": "stdout",
          "text": [
            "{'virat': 'iit delhi', 'aman': 'srm', 'dhruv': 'vit'}\n"
          ]
        }
      ]
    },
    {
      "cell_type": "code",
      "source": [
        "dq.clear()\n",
        "# it will erase all document"
      ],
      "metadata": {
        "id": "pS1K3iqFo9DT"
      },
      "execution_count": 33,
      "outputs": []
    },
    {
      "cell_type": "code",
      "source": [
        "print(dq)"
      ],
      "metadata": {
        "colab": {
          "base_uri": "https://localhost:8080/"
        },
        "id": "r0g-fTxPpD47",
        "outputId": "63ff8b49-a62f-4420-d142-4d00a9601fe3"
      },
      "execution_count": 34,
      "outputs": [
        {
          "output_type": "stream",
          "name": "stdout",
          "text": [
            "{}\n"
          ]
        }
      ]
    }
  ]
}