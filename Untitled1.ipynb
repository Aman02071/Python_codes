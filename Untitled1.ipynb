{
 "cells": [
  {
   "cell_type": "code",
   "execution_count": 1,
   "id": "9668ac4b-b11b-4b45-aef6-3b43353e67b5",
   "metadata": {},
   "outputs": [
    {
     "name": "stdin",
     "output_type": "stream",
     "text": [
      "enter the value 5\n"
     ]
    },
    {
     "name": "stdout",
     "output_type": "stream",
     "text": [
      "hello\n"
     ]
    }
   ],
   "source": [
    "a = int(input(\"enter the value\"))\n",
    "if a>3:\n",
    "    print(\"hello\")\n",
    "\n",
    "elif a >2:\n",
    "    print(\"hi\")\n",
    "\n",
    "elif a >1:\n",
    "    print(\"yes\")\n",
    "\n",
    "else:\n",
    "    print(\"inside else\")   # pattern\n"
   ]
  },
  {
   "cell_type": "code",
   "execution_count": 3,
   "id": "d89ff6cb-d254-4783-8262-d0d3517377f5",
   "metadata": {},
   "outputs": [
    {
     "name": "stdout",
     "output_type": "stream",
     "text": [
      "hello\n",
      "hi\n",
      "yes\n"
     ]
    }
   ],
   "source": [
    "a = 4\n",
    "if a>3:\n",
    "    print(\"hello\")\n",
    "\n",
    "if a >2:\n",
    "    print(\"hi\")\n",
    "\n",
    "if a >1:\n",
    "    print(\"yes\")\n",
    "\n",
    "else:\n",
    "    print(\"inside else\")    # else is optional\n"
   ]
  },
  {
   "cell_type": "markdown",
   "id": "c5ff839f-a689-4be3-815e-f37d6ada4e7d",
   "metadata": {},
   "source": [
    "WAP to check the username and password"
   ]
  },
  {
   "cell_type": "code",
   "execution_count": 14,
   "id": "54f92c4a-ca36-4971-a2fe-2d07d9655d54",
   "metadata": {},
   "outputs": [
    {
     "name": "stdin",
     "output_type": "stream",
     "text": [
      "enter the username aman@123\n",
      "enter the password 1234\n"
     ]
    },
    {
     "name": "stdout",
     "output_type": "stream",
     "text": [
      "login successfully\n"
     ]
    }
   ],
   "source": [
    "user=input(\"enter the username\") # arpit@123\n",
    "password=int(input(\"enter the password\")) # 1234\n",
    "if user == \"aman@123\" :\n",
    "    if password==1234:\n",
    "        print(\"login successfully\")\n",
    "    else:\n",
    "        print(\"password is wrong\")\n",
    "else:\n",
    "    if password==1234:\n",
    "     print(\"username is wrong\")  \n",
    "    else:\n",
    "       print(\"both are wrong \") \n",
    "\n"
   ]
  },
  {
   "cell_type": "markdown",
   "id": "4f9bbc64-d3ae-4d44-8917-1b6a0c41c15e",
   "metadata": {},
   "source": [
    "Looping for while"
   ]
  },
  {
   "cell_type": "code",
   "execution_count": 17,
   "id": "cfc3e497-da8b-4f4f-8be2-568531c943ad",
   "metadata": {},
   "outputs": [
    {
     "name": "stdout",
     "output_type": "stream",
     "text": [
      "hello\n",
      "hello\n",
      "hello\n",
      "hello\n",
      "hello\n",
      "hello\n",
      "hello\n",
      "hello\n",
      "hello\n",
      "hello\n"
     ]
    }
   ],
   "source": [
    "print(\"hello\")\n",
    "print(\"hello\")\n",
    "print(\"hello\")\n",
    "print(\"hello\")\n",
    "print(\"hello\")\n",
    "print(\"hello\")\n",
    "print(\"hello\")\n",
    "print(\"hello\")\n",
    "print(\"hello\")\n",
    "print(\"hello\") # looping means to run a code fixed no of times\n"
   ]
  },
  {
   "cell_type": "code",
   "execution_count": 21,
   "id": "f2f5f162-1e69-4a32-a599-447ab8b1c8f0",
   "metadata": {},
   "outputs": [
    {
     "name": "stdout",
     "output_type": "stream",
     "text": [
      "hello\n",
      "hello\n",
      "hello\n",
      "hello\n",
      "hello\n",
      "hello\n",
      "hello\n",
      "hello\n",
      "hello\n"
     ]
    }
   ],
   "source": [
    "for i in range(9): # for is a keyword and loop ,i is a variable , in is a operator and range is a function\n",
    "    print(\"hello\")  # range is a function start from 0 to n-1---0 to 4"
   ]
  },
  {
   "cell_type": "code",
   "execution_count": 23,
   "id": "99e53bb3-cbaf-443b-b7db-0d988767323c",
   "metadata": {},
   "outputs": [
    {
     "name": "stdout",
     "output_type": "stream",
     "text": [
      "hello\n",
      "0\n",
      "hello\n",
      "1\n",
      "hello\n",
      "2\n",
      "hello\n",
      "3\n",
      "hello\n",
      "4\n",
      "hello\n",
      "5\n",
      "hello\n",
      "6\n",
      "hello\n",
      "7\n",
      "hello\n",
      "8\n",
      "hello\n",
      "9\n"
     ]
    }
   ],
   "source": [
    "for i in range(10):  # value generate i =0,1,2,3,4,5,6,7------\n",
    "    print(\"hello\")\n",
    "    print(i)\n",
    "          \n"
   ]
  },
  {
   "cell_type": "code",
   "execution_count": 25,
   "id": "2ea63922-505a-42c5-ac80-cb017b7cc052",
   "metadata": {},
   "outputs": [
    {
     "name": "stdout",
     "output_type": "stream",
     "text": [
      "9\n",
      "8\n",
      "7\n",
      "6\n",
      "5\n",
      "4\n"
     ]
    }
   ],
   "source": [
    "for i in range(9,3,-1):   #start ,stop,step\n",
    "    print(i)\n"
   ]
  },
  {
   "cell_type": "code",
   "execution_count": 27,
   "id": "8e3a87e7-4dfa-4d1d-9575-4d15b17a1c4c",
   "metadata": {},
   "outputs": [
    {
     "name": "stdout",
     "output_type": "stream",
     "text": [
      "-400\n",
      "-300\n",
      "-200\n",
      "-100\n",
      "0\n"
     ]
    }
   ],
   "source": [
    "for i in range(-400,100,100):\n",
    "    print(i)\n"
   ]
  },
  {
   "cell_type": "markdown",
   "id": "4b688304-6252-47e6-a896-18bbc10f8725",
   "metadata": {},
   "source": [
    "WAP to print a table"
   ]
  },
  {
   "cell_type": "code",
   "execution_count": 32,
   "id": "333eb30a-caf0-429e-bc1b-37b46febe0af",
   "metadata": {},
   "outputs": [
    {
     "name": "stdout",
     "output_type": "stream",
     "text": [
      "2\n",
      "4\n",
      "6\n",
      "8\n",
      "10\n",
      "12\n",
      "14\n",
      "16\n",
      "18\n",
      "20\n"
     ]
    }
   ],
   "source": [
    "for i in range(1,11):\n",
    "    print(2*i)"
   ]
  },
  {
   "cell_type": "code",
   "execution_count": 34,
   "id": "898e1e69-ae0b-46e5-99aa-ae6223dfbfde",
   "metadata": {},
   "outputs": [
    {
     "name": "stdin",
     "output_type": "stream",
     "text": [
      "enter the no 5\n"
     ]
    },
    {
     "name": "stdout",
     "output_type": "stream",
     "text": [
      "5\n",
      "10\n",
      "15\n",
      "20\n",
      "25\n",
      "30\n",
      "35\n",
      "40\n",
      "45\n",
      "50\n"
     ]
    }
   ],
   "source": [
    "n = int(input(\"enter the no\"))\n",
    "for i in range(1,11):\n",
    "    print(n*i)"
   ]
  },
  {
   "cell_type": "code",
   "execution_count": 5,
   "id": "5d166315-358b-4066-8a40-f9ca4e34ec22",
   "metadata": {},
   "outputs": [
    {
     "name": "stdin",
     "output_type": "stream",
     "text": [
      "enter the no 5\n"
     ]
    },
    {
     "name": "stdout",
     "output_type": "stream",
     "text": [
      "5 X 1 = 5\n",
      "5 X 2 = 10\n",
      "5 X 3 = 15\n",
      "5 X 4 = 20\n",
      "5 X 5 = 25\n",
      "5 X 6 = 30\n",
      "5 X 7 = 35\n",
      "5 X 8 = 40\n",
      "5 X 9 = 45\n",
      "5 X 10 = 50\n"
     ]
    }
   ],
   "source": [
    "n = int(input(\"enter the no\"))\n",
    "for i in range (1,11):\n",
    "    print(n,\"X\",i,\"=\",n*i)"
   ]
  },
  {
   "cell_type": "markdown",
   "id": "20a0056e-3a69-4571-82a5-62948fb9d184",
   "metadata": {},
   "source": [
    "WAP to check whether number is negative or not"
   ]
  },
  {
   "cell_type": "code",
   "execution_count": 10,
   "id": "830c31d9-2eff-407b-90c8-89048a521fda",
   "metadata": {},
   "outputs": [
    {
     "name": "stdin",
     "output_type": "stream",
     "text": [
      "enter the number 9\n"
     ]
    },
    {
     "name": "stdout",
     "output_type": "stream",
     "text": [
      "positive\n"
     ]
    }
   ],
   "source": [
    "n = int(input(\"enter the number\"))\n",
    "if n<0:\n",
    "    print(\"negative number\")\n",
    "\n",
    "elif n==0:\n",
    "    print(\"neutral\")\n",
    "\n",
    "else:\n",
    "    print(\"positive\")"
   ]
  },
  {
   "cell_type": "markdown",
   "id": "f3a1e368-16a0-4491-988f-3a32c2107c8a",
   "metadata": {},
   "source": [
    "WAP to find factors"
   ]
  },
  {
   "cell_type": "code",
   "execution_count": 13,
   "id": "de138d0b-a4f3-438a-a538-bd33f51ac78b",
   "metadata": {},
   "outputs": [
    {
     "name": "stdin",
     "output_type": "stream",
     "text": [
      "enter the no to calculate number 6\n"
     ]
    },
    {
     "name": "stdout",
     "output_type": "stream",
     "text": [
      "1\n",
      "2\n",
      "3\n",
      "6\n"
     ]
    }
   ],
   "source": [
    "n = int(input(\"enter the no to calculate number\"))\n",
    "for i in range(1,n+1):  #(1,7)   1to 6\n",
    "    if n%i==0:      #6%6==0\n",
    "        print(i)"
   ]
  },
  {
   "cell_type": "markdown",
   "id": "ac1f2cab-57d7-432f-81cb-b4ace926ca61",
   "metadata": {},
   "source": [
    "WAP to find the series 1 5 9 13 17 21"
   ]
  },
  {
   "cell_type": "code",
   "execution_count": 18,
   "id": "f42da4e2-34b0-47b2-b6a0-6a63ee4dcd11",
   "metadata": {},
   "outputs": [
    {
     "name": "stdout",
     "output_type": "stream",
     "text": [
      "1\n",
      "5\n",
      "9\n",
      "13\n",
      "17\n",
      "21\n",
      "25\n",
      "29\n",
      "33\n",
      "37\n",
      "41\n",
      "45\n",
      "49\n",
      "53\n",
      "57\n",
      "61\n",
      "65\n",
      "69\n",
      "73\n",
      "77\n",
      "81\n",
      "85\n",
      "89\n",
      "93\n",
      "97\n"
     ]
    }
   ],
   "source": [
    "n = 100\n",
    "for i in range (1,n,4):\n",
    "    print(i)\n",
    "\n"
   ]
  },
  {
   "cell_type": "markdown",
   "id": "c3127d74-0966-4fd9-8109-1e8de4baf051",
   "metadata": {},
   "source": [
    "WAP to find the sum of n natural natural number"
   ]
  },
  {
   "cell_type": "code",
   "execution_count": 32,
   "id": "cadafa20-eec1-49f9-9e90-39e9d8e76335",
   "metadata": {},
   "outputs": [
    {
     "ename": "IndentationError",
     "evalue": "expected an indented block after 'for' statement on line 3 (3740989017.py, line 4)",
     "output_type": "error",
     "traceback": [
      "\u001b[1;36m  Cell \u001b[1;32mIn[32], line 4\u001b[1;36m\u001b[0m\n\u001b[1;33m    s=s+i # s=10+5 s=15 update\u001b[0m\n\u001b[1;37m    ^\u001b[0m\n\u001b[1;31mIndentationError\u001b[0m\u001b[1;31m:\u001b[0m expected an indented block after 'for' statement on line 3\n"
     ]
    }
   ],
   "source": [
    "n=int(input(\"enter the no\")) # n=5\n",
    "s=0\n",
    "for i in range(1,n+1): # 1,6\n",
    "s=s+i # s=10+5 s=15 update\n",
    "print(s)"
   ]
  },
  {
   "cell_type": "code",
   "execution_count": 36,
   "id": "2f5193f3-70f3-45a5-a0a3-9af5808605c3",
   "metadata": {},
   "outputs": [
    {
     "name": "stdin",
     "output_type": "stream",
     "text": [
      "enter the no 3\n"
     ]
    },
    {
     "name": "stdout",
     "output_type": "stream",
     "text": [
      "6\n"
     ]
    }
   ],
   "source": [
    "##### n=int(input(\"enter the no\")) # n=5\n",
    "s=0\n",
    "for i in range(1,n+1):         # 1,6\n",
    "    s=s+i     # s=10+5 s=15 update\n",
    "\n",
    "print(s)"
   ]
  },
  {
   "cell_type": "code",
   "execution_count": 38,
   "id": "a8140bd7-fde8-4734-9d22-a7a65e83159d",
   "metadata": {},
   "outputs": [
    {
     "name": "stdin",
     "output_type": "stream",
     "text": [
      "enter the no 5\n"
     ]
    },
    {
     "name": "stdout",
     "output_type": "stream",
     "text": [
      "120\n"
     ]
    }
   ],
   "source": [
    "n=int(input(\"enter the no\")) # n=5\n",
    "s=1\n",
    "for i in range(1,n+1): # 1,6\n",
    "    s=s*i # s=2*1 s=2 update\n",
    "    \n",
    "print(s)"
   ]
  },
  {
   "cell_type": "markdown",
   "id": "08376d54-a47b-4c3a-a5c9-7d6f2426023b",
   "metadata": {},
   "source": [
    "While Loop"
   ]
  },
  {
   "cell_type": "code",
   "execution_count": 41,
   "id": "5a2bc224-530a-43aa-9ae8-da0806a7d17a",
   "metadata": {},
   "outputs": [
    {
     "name": "stdout",
     "output_type": "stream",
     "text": [
      "hello\n",
      "hello\n",
      "hello\n",
      "hello\n"
     ]
    }
   ],
   "source": [
    "a = 5\n",
    "while a >1:   #infinite no of time s \n",
    "    print(\"hello\")   # u can not exist the loop until the condition false\n",
    "    a=a-1   #  1 to 4"
   ]
  },
  {
   "cell_type": "code",
   "execution_count": 43,
   "id": "2abafea8-7858-4674-bf0d-a765f8d5bbde",
   "metadata": {},
   "outputs": [
    {
     "name": "stdout",
     "output_type": "stream",
     "text": [
      "the end\n"
     ]
    }
   ],
   "source": [
    "b =1 \n",
    "while b>3:    # false u cannot enter the inside loop\n",
    "    print(\"hello\")\n",
    "\n",
    "print(\"the end\")"
   ]
  },
  {
   "cell_type": "code",
   "execution_count": null,
   "id": "77edd42e-8778-4c95-8f2f-470ed7e1b3a3",
   "metadata": {},
   "outputs": [],
   "source": []
  }
 ],
 "metadata": {
  "kernelspec": {
   "display_name": "Python [conda env:base] *",
   "language": "python",
   "name": "conda-base-py"
  },
  "language_info": {
   "codemirror_mode": {
    "name": "ipython",
    "version": 3
   },
   "file_extension": ".py",
   "mimetype": "text/x-python",
   "name": "python",
   "nbconvert_exporter": "python",
   "pygments_lexer": "ipython3",
   "version": "3.12.7"
  }
 },
 "nbformat": 4,
 "nbformat_minor": 5
}
