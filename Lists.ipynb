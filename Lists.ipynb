{
  "nbformat": 4,
  "nbformat_minor": 0,
  "metadata": {
    "colab": {
      "provenance": [],
      "authorship_tag": "ABX9TyOVlg00ByKdq27dBUmZFK1J",
      "include_colab_link": true
    },
    "kernelspec": {
      "name": "python3",
      "display_name": "Python 3"
    },
    "language_info": {
      "name": "python"
    }
  },
  "cells": [
    {
      "cell_type": "markdown",
      "metadata": {
        "id": "view-in-github",
        "colab_type": "text"
      },
      "source": [
        "<a href=\"https://colab.research.google.com/github/Aman02071/Python_codes/blob/main/Lists.ipynb\" target=\"_parent\"><img src=\"https://colab.research.google.com/assets/colab-badge.svg\" alt=\"Open In Colab\"/></a>"
      ]
    },
    {
      "cell_type": "markdown",
      "source": [
        "List\n",
        "\n",
        "List Manipulation - it is a collection of elements of different types .\n",
        "\n",
        "* list follows indexing and slicing and looping.\n",
        "* list is a mutable data type - change after creation\n",
        "\n",
        "\n"
      ],
      "metadata": {
        "id": "HveoVABmtDPu"
      }
    },
    {
      "cell_type": "code",
      "source": [
        "l =[3,2,4,5,64,\"hello\",5.6,7.4,9.5,456]\n",
        "print(l)\n",
        "print(type(l))\n",
        "print(len(l))"
      ],
      "metadata": {
        "colab": {
          "base_uri": "https://localhost:8080/"
        },
        "id": "iHiXdEPhtz8V",
        "outputId": "6f143b61-4ad5-4062-a913-468d25bef731"
      },
      "execution_count": 1,
      "outputs": [
        {
          "output_type": "stream",
          "name": "stdout",
          "text": [
            "[3, 2, 4, 5, 64, 'hello', 5.6, 7.4, 9.5, 456]\n",
            "<class 'list'>\n",
            "10\n"
          ]
        }
      ]
    },
    {
      "cell_type": "code",
      "source": [
        "for i in l:\n",
        "  print(i)\n",
        "  # access one by one"
      ],
      "metadata": {
        "colab": {
          "base_uri": "https://localhost:8080/"
        },
        "id": "G3ZTWq6kvYzu",
        "outputId": "f7c08066-49dd-4d4b-87fb-e59a7627a8f4"
      },
      "execution_count": 2,
      "outputs": [
        {
          "output_type": "stream",
          "name": "stdout",
          "text": [
            "3\n",
            "2\n",
            "4\n",
            "5\n",
            "64\n",
            "hello\n",
            "5.6\n",
            "7.4\n",
            "9.5\n",
            "456\n"
          ]
        }
      ]
    },
    {
      "cell_type": "code",
      "source": [
        "print(l[6])"
      ],
      "metadata": {
        "colab": {
          "base_uri": "https://localhost:8080/"
        },
        "id": "yEat0Gtlvi70",
        "outputId": "1207a6df-bf5a-4397-94ab-edf66fea5dbb"
      },
      "execution_count": 3,
      "outputs": [
        {
          "output_type": "stream",
          "name": "stdout",
          "text": [
            "5.6\n"
          ]
        }
      ]
    },
    {
      "cell_type": "code",
      "source": [
        "print(l[3:6])"
      ],
      "metadata": {
        "colab": {
          "base_uri": "https://localhost:8080/"
        },
        "id": "4qCKAtOwvqVU",
        "outputId": "47d671da-9508-4979-847d-472c504c391c"
      },
      "execution_count": 4,
      "outputs": [
        {
          "output_type": "stream",
          "name": "stdout",
          "text": [
            "[5, 64, 'hello']\n"
          ]
        }
      ]
    },
    {
      "cell_type": "code",
      "source": [
        "l[6] =2000\n",
        "print(l)\n",
        "# update of an element 6"
      ],
      "metadata": {
        "colab": {
          "base_uri": "https://localhost:8080/"
        },
        "id": "2ZKAmjiUvy1W",
        "outputId": "eeafc3ba-53ed-4c4b-9d8a-31aeeefbec29"
      },
      "execution_count": 5,
      "outputs": [
        {
          "output_type": "stream",
          "name": "stdout",
          "text": [
            "[3, 2, 4, 5, 64, 'hello', 2000, 7.4, 9.5, 456]\n"
          ]
        }
      ]
    },
    {
      "cell_type": "markdown",
      "source": [
        "Append function to insert an single element at  a time."
      ],
      "metadata": {
        "id": "HOfCnpn7wXMG"
      }
    },
    {
      "cell_type": "code",
      "source": [
        "l1 =[]\n",
        "print(l1)"
      ],
      "metadata": {
        "colab": {
          "base_uri": "https://localhost:8080/"
        },
        "id": "B7fzdFRawh7N",
        "outputId": "418aa7cc-c6c9-486d-a632-70a30be262d0"
      },
      "execution_count": 7,
      "outputs": [
        {
          "output_type": "stream",
          "name": "stdout",
          "text": [
            "[]\n"
          ]
        }
      ]
    },
    {
      "cell_type": "code",
      "source": [
        "l1.append(8)\n",
        "print(l1)\n",
        "# any element u can insert like int , float ,string"
      ],
      "metadata": {
        "colab": {
          "base_uri": "https://localhost:8080/"
        },
        "id": "XGOkffdDwsnF",
        "outputId": "f5cee7bc-572a-4d29-e2c0-5f2445b88453"
      },
      "execution_count": 8,
      "outputs": [
        {
          "output_type": "stream",
          "name": "stdout",
          "text": [
            "[8]\n"
          ]
        }
      ]
    },
    {
      "cell_type": "code",
      "source": [
        "l1.append(45)\n",
        "print(l1)\n",
        "# if i run this code after multiple times then same value will be inserted\n",
        "# list is a collection of duplicate elements"
      ],
      "metadata": {
        "colab": {
          "base_uri": "https://localhost:8080/"
        },
        "id": "vsfJ6IQfw-uc",
        "outputId": "71d0abd9-b846-4072-e08a-5a37dcf0c098"
      },
      "execution_count": 11,
      "outputs": [
        {
          "output_type": "stream",
          "name": "stdout",
          "text": [
            "[8, 45, 45, 45]\n"
          ]
        }
      ]
    },
    {
      "cell_type": "markdown",
      "source": [
        "WAP to create of your friend name input take from the user atleast 5 names"
      ],
      "metadata": {
        "id": "ffvslCj7yw8W"
      }
    },
    {
      "cell_type": "code",
      "source": [
        "frd =[]\n",
        "for i in range(5):\n",
        "  name =input(\"enter your name '\")\n",
        "  frd.append(name)\n",
        "  print(frd)"
      ],
      "metadata": {
        "colab": {
          "base_uri": "https://localhost:8080/"
        },
        "id": "h0Ksn28JxXrN",
        "outputId": "a521068f-235d-4126-c593-4bfcc6b3525e"
      },
      "execution_count": 13,
      "outputs": [
        {
          "output_type": "stream",
          "name": "stdout",
          "text": [
            "enter your name aman'\n",
            "[\"aman'\"]\n",
            "enter your name virat\n",
            "[\"aman'\", 'virat']\n",
            "enter your name kohli\n",
            "[\"aman'\", 'virat', 'kohli']\n",
            "enter your name ms\n",
            "[\"aman'\", 'virat', 'kohli', 'ms']\n",
            "enter your name suresh\n",
            "[\"aman'\", 'virat', 'kohli', 'ms', 'suresh']\n"
          ]
        }
      ]
    },
    {
      "cell_type": "code",
      "source": [
        "# if we want to insert multiple element we will use extend function\n",
        "print(l)\n",
        "l.append(400)\n",
        "print(l)\n",
        "l.extend([23,56,67])"
      ],
      "metadata": {
        "colab": {
          "base_uri": "https://localhost:8080/"
        },
        "id": "B_qW2-VQzPU4",
        "outputId": "aba96789-60e0-46f8-a860-ffd9718d5fd6"
      },
      "execution_count": 18,
      "outputs": [
        {
          "output_type": "stream",
          "name": "stdout",
          "text": [
            "[3, 2, 4, 5, 64, 'hello', 2000, 7.4, 9.5, 456, 400, 400, 400]\n",
            "[3, 2, 4, 5, 64, 'hello', 2000, 7.4, 9.5, 456, 400, 400, 400, 400]\n"
          ]
        }
      ]
    },
    {
      "cell_type": "code",
      "source": [
        "print(l)"
      ],
      "metadata": {
        "colab": {
          "base_uri": "https://localhost:8080/"
        },
        "id": "3KFyJbEfzxJi",
        "outputId": "0f24c856-1956-4842-dc5a-9c2b2610b016"
      },
      "execution_count": 19,
      "outputs": [
        {
          "output_type": "stream",
          "name": "stdout",
          "text": [
            "[3, 2, 4, 5, 64, 'hello', 2000, 7.4, 9.5, 456, 400, 400, 400, 400, 23, 56, 67]\n"
          ]
        }
      ]
    },
    {
      "cell_type": "markdown",
      "source": [
        "l2 =[2,4,5,6,7,8,9]\n",
        "\n",
        "even =[2,4,6,8]\n",
        "\n",
        "odd = [5,7,9]"
      ],
      "metadata": {
        "id": "83GpslsW1hCT"
      }
    },
    {
      "cell_type": "code",
      "source": [
        "l2 =[2,4,5,6,7,8,9]\n",
        "even =[]\n",
        "odd =[]\n",
        "for i in l2:\n",
        "  if i %2==0:\n",
        "    even.append(i)\n",
        "\n",
        "  else:\n",
        "      odd.append(i)\n",
        "      print(even)\n",
        "      print(odd)\n"
      ],
      "metadata": {
        "colab": {
          "base_uri": "https://localhost:8080/"
        },
        "id": "6kkxAwW81ue3",
        "outputId": "6c204a85-d16e-413c-d536-39ac85f9fb55"
      },
      "execution_count": 20,
      "outputs": [
        {
          "output_type": "stream",
          "name": "stdout",
          "text": [
            "[2, 4]\n",
            "[5]\n",
            "[2, 4, 6]\n",
            "[5, 7]\n",
            "[2, 4, 6, 8]\n",
            "[5, 7, 9]\n"
          ]
        }
      ]
    },
    {
      "cell_type": "markdown",
      "source": [
        "List Functions\n",
        "\n",
        "append(),index(),extend(),len(),count(),sort(),remove(),pop(),insert(),clear()"
      ],
      "metadata": {
        "id": "8F-mN5sO2uFM"
      }
    },
    {
      "cell_type": "code",
      "source": [
        "print(l)"
      ],
      "metadata": {
        "colab": {
          "base_uri": "https://localhost:8080/"
        },
        "id": "yNNHTrW53E0-",
        "outputId": "e7da784c-04c9-4d8e-8644-52fadb9cafcc"
      },
      "execution_count": 21,
      "outputs": [
        {
          "output_type": "stream",
          "name": "stdout",
          "text": [
            "[3, 2, 4, 5, 64, 'hello', 2000, 7.4, 9.5, 456, 400, 400, 400, 400, 23, 56, 67]\n"
          ]
        }
      ]
    },
    {
      "cell_type": "code",
      "source": [
        "print(l,len(l))"
      ],
      "metadata": {
        "colab": {
          "base_uri": "https://localhost:8080/"
        },
        "id": "PS1Qoa8F3R7d",
        "outputId": "fa86d693-8436-455c-8d4e-c3d4aba1265e"
      },
      "execution_count": 22,
      "outputs": [
        {
          "output_type": "stream",
          "name": "stdout",
          "text": [
            "[3, 2, 4, 5, 64, 'hello', 2000, 7.4, 9.5, 456, 400, 400, 400, 400, 23, 56, 67] 17\n"
          ]
        }
      ]
    },
    {
      "cell_type": "code",
      "source": [
        "print(l.index(2000))\n",
        "# index function will give the index pos of an elemnt"
      ],
      "metadata": {
        "colab": {
          "base_uri": "https://localhost:8080/"
        },
        "id": "KA9TZoIC3ZE6",
        "outputId": "f48ba6d1-c268-4e58-b5a4-8a17f29b6414"
      },
      "execution_count": 24,
      "outputs": [
        {
          "output_type": "stream",
          "name": "stdout",
          "text": [
            "6\n"
          ]
        }
      ]
    },
    {
      "cell_type": "code",
      "source": [
        "print(l.count(400))"
      ],
      "metadata": {
        "colab": {
          "base_uri": "https://localhost:8080/"
        },
        "id": "XwanE5Kw3qIh",
        "outputId": "251f9709-df41-4a77-df0d-1b3ebd74fd85"
      },
      "execution_count": 25,
      "outputs": [
        {
          "output_type": "stream",
          "name": "stdout",
          "text": [
            "4\n"
          ]
        }
      ]
    },
    {
      "cell_type": "code",
      "source": [
        "l3 =[8,3,2,5,9,4,1]\n",
        "l3.sort()\n",
        "print(l3)\n",
        "# into ascending order"
      ],
      "metadata": {
        "colab": {
          "base_uri": "https://localhost:8080/"
        },
        "id": "KEa1JUaf3zAl",
        "outputId": "95e419bf-1f7a-4e66-8478-8e22f1e39dd8"
      },
      "execution_count": 29,
      "outputs": [
        {
          "output_type": "stream",
          "name": "stdout",
          "text": [
            "[1, 2, 3, 4, 5, 8, 9]\n"
          ]
        }
      ]
    },
    {
      "cell_type": "code",
      "source": [
        "qd =[23,890,567,456,888,2345,890]\n",
        "qd.sort()\n",
        "print(qd)"
      ],
      "metadata": {
        "colab": {
          "base_uri": "https://localhost:8080/"
        },
        "id": "dvaVwDdW4c2B",
        "outputId": "18943be5-18cc-4b8f-caa4-e808d8ab3363"
      },
      "execution_count": 30,
      "outputs": [
        {
          "output_type": "stream",
          "name": "stdout",
          "text": [
            "[23, 456, 567, 888, 890, 890, 2345]\n"
          ]
        }
      ]
    },
    {
      "cell_type": "code",
      "source": [
        "qd.sort(reverse = True)\n",
        "print(qd)\n",
        "# into descending order"
      ],
      "metadata": {
        "colab": {
          "base_uri": "https://localhost:8080/"
        },
        "id": "kIO0XRoB4yZu",
        "outputId": "8f029750-d14e-4d0b-c5d8-644b18a0c07b"
      },
      "execution_count": 32,
      "outputs": [
        {
          "output_type": "stream",
          "name": "stdout",
          "text": [
            "[2345, 890, 890, 888, 567, 456, 23]\n"
          ]
        }
      ]
    },
    {
      "cell_type": "code",
      "source": [
        "frd.sort()\n",
        "print(frd)\n",
        "# A-Z arrange"
      ],
      "metadata": {
        "colab": {
          "base_uri": "https://localhost:8080/"
        },
        "id": "bo2W5aFp5OpF",
        "outputId": "4750cf8a-e9c0-439a-91c7-6482fda48e8f"
      },
      "execution_count": 33,
      "outputs": [
        {
          "output_type": "stream",
          "name": "stdout",
          "text": [
            "[\"aman'\", 'kohli', 'ms', 'suresh', 'virat']\n"
          ]
        }
      ]
    },
    {
      "cell_type": "code",
      "source": [
        "print(qd)"
      ],
      "metadata": {
        "colab": {
          "base_uri": "https://localhost:8080/"
        },
        "id": "j80Ni_O_5dnn",
        "outputId": "00818bf3-9844-4a07-8c6a-eaf2ce1b96ff"
      },
      "execution_count": 34,
      "outputs": [
        {
          "output_type": "stream",
          "name": "stdout",
          "text": [
            "[2345, 890, 890, 888, 567, 456, 23]\n"
          ]
        }
      ]
    },
    {
      "cell_type": "code",
      "source": [
        "qd.reverse()\n",
        "print(qd)\n",
        "# it will reverse all the element"
      ],
      "metadata": {
        "colab": {
          "base_uri": "https://localhost:8080/"
        },
        "id": "6jCnuRnx5hFS",
        "outputId": "f1813aad-4448-46dd-a377-2774408e5ac4"
      },
      "execution_count": 35,
      "outputs": [
        {
          "output_type": "stream",
          "name": "stdout",
          "text": [
            "[23, 456, 567, 888, 890, 890, 2345]\n"
          ]
        }
      ]
    },
    {
      "cell_type": "code",
      "source": [
        "qd.remove(567)\n",
        "print(qd)\n"
      ],
      "metadata": {
        "colab": {
          "base_uri": "https://localhost:8080/",
          "height": 158
        },
        "id": "OGAvq50v5tHC",
        "outputId": "eb5d7f61-8cb6-49e1-931c-f76c29c1d768"
      },
      "execution_count": 42,
      "outputs": [
        {
          "output_type": "error",
          "ename": "ValueError",
          "evalue": "list.remove(x): x not in list",
          "traceback": [
            "\u001b[0;31m---------------------------------------------------------------------------\u001b[0m",
            "\u001b[0;31mValueError\u001b[0m                                Traceback (most recent call last)",
            "\u001b[0;32m<ipython-input-42-52810b4822ed>\u001b[0m in \u001b[0;36m<cell line: 0>\u001b[0;34m()\u001b[0m\n\u001b[0;32m----> 1\u001b[0;31m \u001b[0mqd\u001b[0m\u001b[0;34m.\u001b[0m\u001b[0mremove\u001b[0m\u001b[0;34m(\u001b[0m\u001b[0;36m567\u001b[0m\u001b[0;34m)\u001b[0m\u001b[0;34m\u001b[0m\u001b[0;34m\u001b[0m\u001b[0m\n\u001b[0m\u001b[1;32m      2\u001b[0m \u001b[0mprint\u001b[0m\u001b[0;34m(\u001b[0m\u001b[0mqd\u001b[0m\u001b[0;34m)\u001b[0m\u001b[0;34m\u001b[0m\u001b[0;34m\u001b[0m\u001b[0m\n",
            "\u001b[0;31mValueError\u001b[0m: list.remove(x): x not in list"
          ]
        }
      ]
    },
    {
      "cell_type": "code",
      "source": [
        "qd.pop()\n",
        "print(qd)\n",
        "# it will delete the last element"
      ],
      "metadata": {
        "colab": {
          "base_uri": "https://localhost:8080/"
        },
        "id": "y15VTgW8_fr0",
        "outputId": "ecda1d79-2f34-403f-a9be-2274747bfc00"
      },
      "execution_count": 43,
      "outputs": [
        {
          "output_type": "stream",
          "name": "stdout",
          "text": [
            "[23, 456, 890, 890]\n"
          ]
        }
      ]
    },
    {
      "cell_type": "code",
      "source": [
        "print(l2)"
      ],
      "metadata": {
        "colab": {
          "base_uri": "https://localhost:8080/"
        },
        "id": "sF8JINxx_snd",
        "outputId": "74eb270a-041d-47ea-db50-940d33dc40c9"
      },
      "execution_count": 44,
      "outputs": [
        {
          "output_type": "stream",
          "name": "stdout",
          "text": [
            "[2, 4, 5, 6, 7, 8, 9]\n"
          ]
        }
      ]
    },
    {
      "cell_type": "code",
      "source": [
        "l2.insert(3,300)\n",
        "print(l2)"
      ],
      "metadata": {
        "colab": {
          "base_uri": "https://localhost:8080/"
        },
        "id": "uwy0eUr0_yRW",
        "outputId": "2096010c-2a92-4844-da3f-ebb3221f65c0"
      },
      "execution_count": 48,
      "outputs": [
        {
          "output_type": "stream",
          "name": "stdout",
          "text": [
            "[2, 4, 5, 300, 300, 300, 6, 7, 8, 9]\n"
          ]
        }
      ]
    },
    {
      "cell_type": "code",
      "source": [],
      "metadata": {
        "id": "J0ej-tKPk2J-"
      },
      "execution_count": 4,
      "outputs": []
    }
  ]
}