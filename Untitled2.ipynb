{
 "cells": [
  {
   "cell_type": "markdown",
   "id": "9c102358-e474-4869-881d-cea4510e7b4d",
   "metadata": {},
   "source": [
    "Break keyword and continue keyword ,\n",
    "Break keyword is to terminate the loop forcefully"
   ]
  },
  {
   "cell_type": "code",
   "execution_count": 3,
   "id": "7b2dc41c-6949-47c1-85a8-b96df9ce6218",
   "metadata": {},
   "outputs": [
    {
     "name": "stdout",
     "output_type": "stream",
     "text": [
      "0\n",
      "1\n",
      "2\n",
      "3\n",
      "4\n"
     ]
    }
   ],
   "source": [
    "for i in range (5):    # loop complete\n",
    "    print(i)"
   ]
  },
  {
   "cell_type": "code",
   "execution_count": 5,
   "id": "dcb34ca4-2488-449c-853a-316d9bcf42d2",
   "metadata": {},
   "outputs": [
    {
     "name": "stdout",
     "output_type": "stream",
     "text": [
      "1\n"
     ]
    }
   ],
   "source": [
    "for i in range (1,5):\n",
    "    print(i)    #1\n",
    "    break  #exist the loop"
   ]
  },
  {
   "cell_type": "code",
   "execution_count": 7,
   "id": "c5e74581-f60f-434f-bafa-952f60d9cf5d",
   "metadata": {},
   "outputs": [
    {
     "name": "stdout",
     "output_type": "stream",
     "text": [
      "1\n"
     ]
    }
   ],
   "source": [
    "for i in range (1,5):\n",
    "    print(i)    \n",
    "    break\n",
    "    print(\"outside\")"
   ]
  },
  {
   "cell_type": "code",
   "execution_count": 9,
   "id": "15e1fb68-7722-484b-8880-a26d58672e1b",
   "metadata": {},
   "outputs": [
    {
     "name": "stdout",
     "output_type": "stream",
     "text": [
      "0\n",
      "1\n",
      "2\n"
     ]
    }
   ],
   "source": [
    "for i in range (6):\n",
    "    if i ==3:\n",
    "        break   #  exist the code\n",
    "\n",
    "    else:\n",
    "        print(i)    #0,1,2"
   ]
  },
  {
   "cell_type": "code",
   "execution_count": 11,
   "id": "e3b4b96b-980b-44a4-bd80-51d1cfbdda95",
   "metadata": {},
   "outputs": [
    {
     "name": "stdout",
     "output_type": "stream",
     "text": [
      "0\n",
      "1\n",
      "2\n",
      "4\n",
      "5\n"
     ]
    }
   ],
   "source": [
    "#continue keyword is used to skip the keyword , not exist the loop\n",
    "\n",
    "for i in range (6):\n",
    "    if i ==3:\n",
    "        continue  #  skip the code\n",
    "\n",
    "    else:\n",
    "        print(i)    #0,1,2"
   ]
  },
  {
   "cell_type": "markdown",
   "id": "614c6d84-cf02-44a0-91cd-11170578967b",
   "metadata": {},
   "source": [
    "WAP to create a calculator for adddition and substraction and ask input again until user"
   ]
  },
  {
   "cell_type": "code",
   "execution_count": 16,
   "id": "db5141f8-cab3-414d-adbf-fc663609fad8",
   "metadata": {},
   "outputs": [
    {
     "name": "stdout",
     "output_type": "stream",
     "text": [
      "welcome \n",
      "1 Addition\n",
      "2 Substraction\n",
      "Any key for exist\n"
     ]
    },
    {
     "name": "stdin",
     "output_type": "stream",
     "text": [
      "enter your choice 1\n",
      "enter the first no 78\n",
      "enter the first no 78\n"
     ]
    },
    {
     "name": "stdout",
     "output_type": "stream",
     "text": [
      "156\n",
      "welcome \n",
      "1 Addition\n",
      "2 Substraction\n",
      "Any key for exist\n"
     ]
    },
    {
     "name": "stdin",
     "output_type": "stream",
     "text": [
      "enter your choice 6\n"
     ]
    },
    {
     "name": "stdout",
     "output_type": "stream",
     "text": [
      "exist\n"
     ]
    }
   ],
   "source": [
    "while True:\n",
    "    print(\"welcome \")\n",
    "    print(\"1 Addition\")\n",
    "    print(\"2 Substraction\")\n",
    "    print(\"Any key for exist\")\n",
    "    choice = int(input(\"enter your choice\"))\n",
    "    if choice == 1:\n",
    "        a = int(input(\"enter the first no\"))\n",
    "        b = int(input(\"enter the first no\"))\n",
    "        print(a+b)\n",
    "    elif choice ==2:\n",
    "        a = int(input(\"enter the first no\"))\n",
    "        b = int(input(\"enter the first no\"))\n",
    "        print(a-b)\n",
    "    else:\n",
    "        print(\"exist\")\n",
    "        break\n",
    "\n",
    "\n",
    "        \n",
    "\n",
    "\n",
    "    \n",
    "    "
   ]
  },
  {
   "cell_type": "markdown",
   "id": "524471d9-52fa-4210-bc26-f725b6f47677",
   "metadata": {},
   "source": [
    "Prime number and composite number"
   ]
  },
  {
   "cell_type": "code",
   "execution_count": 21,
   "id": "0bb1d121-7fd1-4d1d-870b-8d3ef5fa5f73",
   "metadata": {},
   "outputs": [
    {
     "name": "stdin",
     "output_type": "stream",
     "text": [
      "enter the no to check prime no or not 8\n"
     ]
    },
    {
     "name": "stdout",
     "output_type": "stream",
     "text": [
      "1\n",
      "2\n",
      "4\n",
      "8\n",
      "composite no\n"
     ]
    }
   ],
   "source": [
    "n = int (input(\"enter the no to check prime no or not\"))\n",
    "c=0\n",
    "for i in range (1,n+1):\n",
    "    if n%i==0:\n",
    "        print(i)\n",
    "        c=c+1  #c=2\n",
    "\n",
    "if c == 2:\n",
    "    print(\"prime no\")\n",
    "\n",
    "else:\n",
    "    print(\"composite no\")\n"
   ]
  },
  {
   "cell_type": "code",
   "execution_count": null,
   "id": "b58848f5-8b9f-4646-acad-668e670a42de",
   "metadata": {},
   "outputs": [],
   "source": []
  },
  {
   "cell_type": "code",
   "execution_count": null,
   "id": "68d1ff23-4d5b-44c7-a410-9f141335cb9c",
   "metadata": {},
   "outputs": [],
   "source": []
  },
  {
   "cell_type": "code",
   "execution_count": null,
   "id": "ddfed6e2-c8d2-4c42-847d-000d53af19c5",
   "metadata": {},
   "outputs": [],
   "source": []
  },
  {
   "cell_type": "code",
   "execution_count": null,
   "id": "f81cc23b-0d94-405f-bcd2-e7c54849015d",
   "metadata": {},
   "outputs": [],
   "source": []
  }
 ],
 "metadata": {
  "kernelspec": {
   "display_name": "Python [conda env:base] *",
   "language": "python",
   "name": "conda-base-py"
  },
  "language_info": {
   "codemirror_mode": {
    "name": "ipython",
    "version": 3
   },
   "file_extension": ".py",
   "mimetype": "text/x-python",
   "name": "python",
   "nbconvert_exporter": "python",
   "pygments_lexer": "ipython3",
   "version": "3.12.7"
  }
 },
 "nbformat": 4,
 "nbformat_minor": 5
}
